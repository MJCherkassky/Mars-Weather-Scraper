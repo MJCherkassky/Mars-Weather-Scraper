{
 "cells": [
  {
   "cell_type": "code",
   "execution_count": 2,
   "metadata": {},
   "outputs": [],
   "source": [
    "#Import dependencies and create html filepath\n",
    "from twitter_scraper import get_tweets\n",
    "from bs4 import BeautifulSoup as bs\n",
    "from splinter import Browser\n",
    "import pandas as pd\n",
    "import requests\n",
    "import pprint"
   ]
  },
  {
   "cell_type": "code",
   "execution_count": 3,
   "metadata": {},
   "outputs": [],
   "source": [
    "############ NASA MARS NEWS ############\n",
    "#Set Executable Path & identify url path\n",
    "executable_path = {\"executable_path\": \"./chromedriver.exe\"}\n",
    "browser = Browser(\"chrome\", **executable_path, headless=False)\n",
    "url = 'https://mars.nasa.gov/news/'\n",
    "browser.visit(url)"
   ]
  },
  {
   "cell_type": "code",
   "execution_count": 4,
   "metadata": {},
   "outputs": [],
   "source": [
    "#Parse webpage\n",
    "html= browser.html\n",
    "soup = bs(html, 'html.parser')"
   ]
  },
  {
   "cell_type": "code",
   "execution_count": 5,
   "metadata": {
    "tags": []
   },
   "outputs": [
    {
     "output_type": "stream",
     "name": "stdout",
     "text": "8 Martian Postcards to Celebrate Curiosity's Landing Anniversary\n"
    }
   ],
   "source": [
    "# First card lives in the first 'li \"slide\" class\n",
    "#   <ul class=\"item_list\">\n",
    "#     <li class=\"slide\">\n",
    "first_article = soup.select_one('ul.item_list li.slide')\n",
    "news_title = first_article.find('div', class_='content_title').text\n",
    "print(news_title)"
   ]
  },
  {
   "cell_type": "code",
   "execution_count": 6,
   "metadata": {
    "tags": []
   },
   "outputs": [
    {
     "output_type": "stream",
     "name": "stdout",
     "text": "The NASA rover touched down eight years ago, on Aug. 5, 2012, and will soon be joined by a second rover, Perseverance.\n"
    }
   ],
   "source": [
    "#Paragraph Text for same article\n",
    "news_p = first_article.find('div', class_='article_teaser_body').text\n",
    "print(news_p)"
   ]
  },
  {
   "cell_type": "code",
   "execution_count": 7,
   "metadata": {},
   "outputs": [],
   "source": [
    "############ JPL MARS FEATURED IMAGE ############\n",
    "#Set Executable Path & identify URL path\n",
    "executable_path = {\"executable_path\": \"./chromedriver.exe\"}\n",
    "browser = Browser(\"chrome\", **executable_path, headless=False)\n",
    "iurl= 'https://www.jpl.nasa.gov/spaceimages/?search=&category=Mars'\n",
    "browser.visit(iurl)"
   ]
  },
  {
   "cell_type": "code",
   "execution_count": 8,
   "metadata": {},
   "outputs": [],
   "source": [
    "#Go to full image button to see featured image via id='full_image'\n",
    "full_image_button = browser.find_by_id('full_image')\n",
    "full_image_button.click()"
   ]
  },
  {
   "cell_type": "code",
   "execution_count": 9,
   "metadata": {},
   "outputs": [],
   "source": [
    "#Go to 'more info' button via element present by text 'more info'\n",
    "more_info_element = browser.find_link_by_partial_text('more info')\n",
    "more_info_element.click()"
   ]
  },
  {
   "cell_type": "code",
   "execution_count": 10,
   "metadata": {},
   "outputs": [
    {
     "output_type": "execute_result",
     "data": {
      "text/plain": "'/spaceimages/images/largesize/PIA16883_hires.jpg'"
     },
     "metadata": {},
     "execution_count": 10
    }
   ],
   "source": [
    "#Grab full-size image url .jpg\n",
    "html = browser.html\n",
    "image_souped = bs(html, 'html.parser')\n",
    "image_url = image_souped.select_one('figure.lede a img').get('src')\n",
    "image_url"
   ]
  },
  {
   "cell_type": "code",
   "execution_count": 11,
   "metadata": {
    "tags": []
   },
   "outputs": [
    {
     "output_type": "stream",
     "name": "stdout",
     "text": "https://www.jpl.nasa.gov/spaceimages/images/largesize/PIA16883_hires.jpg\n"
    }
   ],
   "source": [
    "#Combine main url with image route\n",
    "direct_image_url = f\"https://www.jpl.nasa.gov{image_url}\"\n",
    "print(direct_image_url)"
   ]
  },
  {
   "cell_type": "code",
   "execution_count": 12,
   "metadata": {},
   "outputs": [],
   "source": [
    "############# MARS TWITTER WEATHER ############\n",
    "weather_url = 'https://twitter.com/marswxreport?lang=en'\n",
    "browser.visit(weather_url)"
   ]
  },
  {
   "cell_type": "code",
   "execution_count": 13,
   "metadata": {},
   "outputs": [],
   "source": [
    "html_weather=browser.html\n",
    "soup=bs(html_weather, 'html.parser')\n",
    "tweets=[]\n",
    "for tweet in get_tweets('@MarsWxReport', pages=1):\n",
    "    tw=tweet['text']\n",
    "    tweets.append(tw)"
   ]
  },
  {
   "cell_type": "code",
   "execution_count": 14,
   "metadata": {},
   "outputs": [
    {
     "output_type": "execute_result",
     "data": {
      "text/plain": "'InSight sol 598 (2020-08-01) low -91.6ºC (-132.9ºF) high -15.1ºC (4.8ºF)\\nwinds from the WNW at 7.1 m/s (15.8 mph) gusting to 19.2 m/s (43.0 mph)\\npressure at 7.90 hPa pic.twitter.com/xedt9nLLfq'"
     },
     "metadata": {},
     "execution_count": 14
    }
   ],
   "source": [
    "tweets[0]"
   ]
  },
  {
   "cell_type": "code",
   "execution_count": 19,
   "metadata": {},
   "outputs": [],
   "source": [
    "first_tweet=tweets[0]"
   ]
  },
  {
   "cell_type": "code",
   "execution_count": 15,
   "metadata": {},
   "outputs": [
    {
     "output_type": "execute_result",
     "data": {
      "text/plain": "'<table border=\"1\" class=\"dataframe\">\\n  <thead>\\n    <tr style=\"text-align: right;\">\\n      <th></th>\\n      <th>Value</th>\\n    </tr>\\n    <tr>\\n      <th>Description</th>\\n      <th></th>\\n    </tr>\\n  </thead>\\n  <tbody>\\n    <tr>\\n      <th>Equatorial Diameter:</th>\\n      <td>6,792 km</td>\\n    </tr>\\n    <tr>\\n      <th>Polar Diameter:</th>\\n      <td>6,752 km</td>\\n    </tr>\\n    <tr>\\n      <th>Mass:</th>\\n      <td>6.39 × 10^23 kg (0.11 Earths)</td>\\n    </tr>\\n    <tr>\\n      <th>Moons:</th>\\n      <td>2 (Phobos &amp; Deimos)</td>\\n    </tr>\\n    <tr>\\n      <th>Orbit Distance:</th>\\n      <td>227,943,824 km (1.38 AU)</td>\\n    </tr>\\n    <tr>\\n      <th>Orbit Period:</th>\\n      <td>687 days (1.9 years)</td>\\n    </tr>\\n    <tr>\\n      <th>Surface Temperature:</th>\\n      <td>-87 to -5 °C</td>\\n    </tr>\\n    <tr>\\n      <th>First Record:</th>\\n      <td>2nd millennium BC</td>\\n    </tr>\\n    <tr>\\n      <th>Recorded By:</th>\\n      <td>Egyptian astronomers</td>\\n    </tr>\\n  </tbody>\\n</table>'"
     },
     "metadata": {},
     "execution_count": 15
    }
   ],
   "source": [
    "############ MARS FACTS ############\n",
    "furl = 'https://space-facts.com/mars/'\n",
    "fact_tables = pd.read_html(furl)\n",
    "mars_tables = fact_tables[0]\n",
    "mars_tables.columns = [\"Description\",\"Value\"]\n",
    "mars_tables.set_index('Description', inplace=True)\n",
    "mars_tables.to_html()"
   ]
  },
  {
   "cell_type": "code",
   "execution_count": 16,
   "metadata": {},
   "outputs": [],
   "source": [
    "############ MARS HEMISPHERES ############\n",
    "executable_path = {\"executable_path\": \"./chromedriver.exe\"}\n",
    "browser = Browser(\"chrome\", **executable_path, headless=False)\n",
    "url = \"https://astrogeology.usgs.gov/search/results?q=hemisphere+enhanced&k1=target&v1=Mars\"\n",
    "browser.visit(url)"
   ]
  },
  {
   "cell_type": "code",
   "execution_count": 17,
   "metadata": {},
   "outputs": [
    {
     "output_type": "execute_result",
     "data": {
      "text/plain": "[{'Title': 'Cerberus Hemisphere Enhanced',\n  'Image URL': 'https://astropedia.astrogeology.usgs.gov/download/Mars/Viking/cerberus_enhanced.tif/full.jpg'},\n {'Title': 'Schiaparelli Hemisphere Enhanced',\n  'Image URL': 'https://astropedia.astrogeology.usgs.gov/download/Mars/Viking/schiaparelli_enhanced.tif/full.jpg'},\n {'Title': 'Syrtis Major Hemisphere Enhanced',\n  'Image URL': 'https://astropedia.astrogeology.usgs.gov/download/Mars/Viking/syrtis_major_enhanced.tif/full.jpg'},\n {'Title': 'Valles Marineris Hemisphere Enhanced',\n  'Image URL': 'https://astropedia.astrogeology.usgs.gov/download/Mars/Viking/valles_marineris_enhanced.tif/full.jpg'}]"
     },
     "metadata": {},
     "execution_count": 17
    }
   ],
   "source": [
    "hemisphere_image_urls = []\n",
    "\n",
    "# Get a List of All the Hemispheres\n",
    "links = browser.find_by_css(\"a.product-item h3\")\n",
    "for item in range(len(links)):\n",
    "    hemisphere = {}\n",
    "    # Find element to navigate to each hemisphere page\n",
    "    browser.find_by_css(\"a.product-item h3\")[item].click()\n",
    "    # Get hemisphere name text\n",
    "    hemisphere[\"Title\"] = browser.find_by_css(\"h2.title\").text\n",
    "    # Extract href tag from Sample jpg\n",
    "    sample_element = browser.find_link_by_text(\"Sample\").first\n",
    "    hemisphere[\"Image URL\"] = sample_element[\"href\"]     \n",
    "    # Append info dictionary to above list\n",
    "    hemisphere_image_urls.append(hemisphere)   \n",
    "    # Return to main Mars Hemisphere page to restart the for loop at the top\n",
    "    browser.back()\n",
    "\n",
    "hemisphere_image_urls"
   ]
  },
  {
   "cell_type": "code",
   "execution_count": 21,
   "metadata": {
    "tags": []
   },
   "outputs": [
    {
     "output_type": "stream",
     "name": "stdout",
     "text": "{'News Title': \"8 Martian Postcards to Celebrate Curiosity's Landing Anniversary\", 'News Paragraph': 'The NASA rover touched down eight years ago, on Aug. 5, 2012, and will soon be joined by a second rover, Perseverance.', 'Image': 'https://www.jpl.nasa.gov/spaceimages/images/largesize/PIA16883_hires.jpg', 'Tweet': 'InSight sol 598 (2020-08-01) low -91.6ºC (-132.9ºF) high -15.1ºC (4.8ºF)\\nwinds from the WNW at 7.1 m/s (15.8 mph) gusting to 19.2 m/s (43.0 mph)\\npressure at 7.90 hPa pic.twitter.com/xedt9nLLfq', 'Mars Facts':                                               Value\nDescription                                        \nEquatorial Diameter:                       6,792 km\nPolar Diameter:                            6,752 km\nMass:                 6.39 × 10^23 kg (0.11 Earths)\nMoons:                          2 (Phobos & Deimos)\nOrbit Distance:            227,943,824 km (1.38 AU)\nOrbit Period:                  687 days (1.9 years)\nSurface Temperature:                   -87 to -5 °C\nFirst Record:                     2nd millennium BC\nRecorded By:                   Egyptian astronomers, \"Hemisphere Image URL's\": [{'Title': 'Cerberus Hemisphere Enhanced', 'Image URL': 'https://astropedia.astrogeology.usgs.gov/download/Mars/Viking/cerberus_enhanced.tif/full.jpg'}, {'Title': 'Schiaparelli Hemisphere Enhanced', 'Image URL': 'https://astropedia.astrogeology.usgs.gov/download/Mars/Viking/schiaparelli_enhanced.tif/full.jpg'}, {'Title': 'Syrtis Major Hemisphere Enhanced', 'Image URL': 'https://astropedia.astrogeology.usgs.gov/download/Mars/Viking/syrtis_major_enhanced.tif/full.jpg'}, {'Title': 'Valles Marineris Hemisphere Enhanced', 'Image URL': 'https://astropedia.astrogeology.usgs.gov/download/Mars/Viking/valles_marineris_enhanced.tif/full.jpg'}]}\n"
    }
   ],
   "source": [
    "scrape_data_dict= {\n",
    "\"News Title\": news_title,\n",
    "\"News Paragraph\": news_p,\n",
    "\"Image\": direct_image_url,\n",
    "\"Tweet\":first_tweet,\n",
    "\"Mars Facts\": mars_tables,\n",
    "\"Hemisphere Image URL's\":hemisphere_image_urls\n",
    "}\n",
    "\n",
    "print(scrape_data_dict)"
   ]
  },
  {
   "cell_type": "code",
   "execution_count": 22,
   "metadata": {},
   "outputs": [],
   "source": [
    "def scrape():\n",
    "    ############ NASA MARS NEWS ############\n",
    "\n",
    "    #Set Executable Path & identify url path\n",
    "    executable_path = {\"executable_path\": \"./chromedriver.exe\"}\n",
    "    browser = Browser(\"chrome\", **executable_path, headless=False)\n",
    "    url = 'https://mars.nasa.gov/news/'\n",
    "    browser.visit(url)\n",
    "\n",
    "    #Parse webpage\n",
    "    html= browser.html\n",
    "    soup = bs(html, 'html.parser')\n",
    "    first_article = soup.select_one('ul.item_list li.slide')\n",
    "    news_title = first_article.find('div', class_='content_title').text\n",
    "    news_p = first_article.find('div', class_='article_teaser_body').text\n",
    "\n",
    "    ############ JPL MARS FEATURED IMAGE ############\n",
    "    #Set Executable Path & identify URL path\n",
    "    executable_path = {\"executable_path\": \"./chromedriver.exe\"}\n",
    "    browser = Browser(\"chrome\", **executable_path, headless=False)\n",
    "    iurl= 'https://www.jpl.nasa.gov/spaceimages/?search=&category=Mars'\n",
    "    browser.visit(iurl)\n",
    "\n",
    "    full_image_button = browser.find_by_id('full_image')\n",
    "    full_image_button.click()\n",
    "    more_info_element = browser.find_link_by_partial_text('more info')\n",
    "    more_info_element.click()\n",
    "    html = browser.html\n",
    "    image_souped = bs(html, 'html.parser')\n",
    "    image_url = image_souped.select_one('figure.lede a img').get('src')\n",
    "    direct_image_url = f\"https://www.jpl.nasa.gov{image_url}\"\n",
    "\n",
    "    ############# MARS TWITTER WEATHER ############\n",
    "    weather_url = 'https://twitter.com/marswxreport?lang=en'\n",
    "    browser.visit(weather_url)\n",
    "    html_weather=browser.html\n",
    "    soup=bs(html_weather, 'html.parser')\n",
    "    tweets=[]\n",
    "    for tweet in get_tweets('@MarsWxReport', pages=1):\n",
    "        tw=tweet['text']\n",
    "        tweets.append(tw)\n",
    "    first_tweet = tweets[0]\n",
    "\n",
    "    ############ MARS FACTS ############\n",
    "    furl = 'https://space-facts.com/mars/'\n",
    "    fact_tables = pd.read_html(furl)\n",
    "    mars_tables = fact_tables[0]\n",
    "    mars_tables.columns = [\"Description\",\"Value\"]\n",
    "    mars_tables.set_index('Description', inplace=True)\n",
    "    mars_tables.to_html()\n",
    "\n",
    "    ############ MARS HEMISPHERES ############\n",
    "    hemisphere_image_urls = [\n",
    "    {\"title\": \"Valles Marineris Hemisphere\", \"img_url\": \"https://astrogeology.usgs.gov/cache/images/b3c7c6c9138f57b4756be9b9c43e3a48_valles_marineris_enhanced.tif_full.jpg\"},\n",
    "    {\"title\": \"Cerberus Hemisphere\", \"img_url\": \"https://astrogeology.usgs.gov/cache/images/f5e372a36edfa389625da6d0cc25d905_cerberus_enhanced.tif_full.jpg\"},\n",
    "    {\"title\": \"Schiaparelli Hemisphere\", \"img_url\": \"https://astrogeology.usgs.gov/cache/images/3778f7b43bbbc89d6e3cfabb3613ba93_schiaparelli_enhanced.tif_full.jpg\"},\n",
    "    {\"title\": \"Syrtis Major Hemisphere\", \"img_url\": \"https://astrogeology.usgs.gov/cache/images/555e6403a6ddd7ba16ddb0e471cadcf7_syrtis_major_enhanced.tif_full.jpg\"},\n",
    "    ]\n",
    "\n",
    "    scrape_data_dict= {\n",
    "    \"News Title\": news_title,\n",
    "    \"News Paragraph\": news_p,\n",
    "    \"Image\": direct_image_url,\n",
    "    \"Tweet\":first_tweet,\n",
    "    \"Mars Facts\": mars_tables,\n",
    "    \"Hemisphere Image URL's\":hemisphere_image_urls\n",
    "    }\n",
    "\n",
    "    return scrape_data_dict"
   ]
  },
  {
   "cell_type": "code",
   "execution_count": 23,
   "metadata": {},
   "outputs": [
    {
     "output_type": "execute_result",
     "data": {
      "text/plain": "{'News Title': \"8 Martian Postcards to Celebrate Curiosity's Landing Anniversary\",\n 'News Paragraph': 'The NASA rover touched down eight years ago, on Aug. 5, 2012, and will soon be joined by a second rover, Perseverance.',\n 'Image': 'https://www.jpl.nasa.gov/spaceimages/images/largesize/PIA16883_hires.jpg',\n 'Tweet': 'InSight sol 598 (2020-08-01) low -91.6ºC (-132.9ºF) high -15.1ºC (4.8ºF)\\nwinds from the WNW at 7.1 m/s (15.8 mph) gusting to 19.2 m/s (43.0 mph)\\npressure at 7.90 hPa pic.twitter.com/xedt9nLLfq',\n 'Mars Facts':                                               Value\n Description                                        \n Equatorial Diameter:                       6,792 km\n Polar Diameter:                            6,752 km\n Mass:                 6.39 × 10^23 kg (0.11 Earths)\n Moons:                          2 (Phobos & Deimos)\n Orbit Distance:            227,943,824 km (1.38 AU)\n Orbit Period:                  687 days (1.9 years)\n Surface Temperature:                   -87 to -5 °C\n First Record:                     2nd millennium BC\n Recorded By:                   Egyptian astronomers,\n \"Hemisphere Image URL's\": [{'title': 'Valles Marineris Hemisphere',\n   'img_url': 'https://astrogeology.usgs.gov/cache/images/b3c7c6c9138f57b4756be9b9c43e3a48_valles_marineris_enhanced.tif_full.jpg'},\n  {'title': 'Cerberus Hemisphere',\n   'img_url': 'https://astrogeology.usgs.gov/cache/images/f5e372a36edfa389625da6d0cc25d905_cerberus_enhanced.tif_full.jpg'},\n  {'title': 'Schiaparelli Hemisphere',\n   'img_url': 'https://astrogeology.usgs.gov/cache/images/3778f7b43bbbc89d6e3cfabb3613ba93_schiaparelli_enhanced.tif_full.jpg'},\n  {'title': 'Syrtis Major Hemisphere',\n   'img_url': 'https://astrogeology.usgs.gov/cache/images/555e6403a6ddd7ba16ddb0e471cadcf7_syrtis_major_enhanced.tif_full.jpg'}]}"
     },
     "metadata": {},
     "execution_count": 23
    }
   ],
   "source": [
    "scrape()"
   ]
  },
  {
   "cell_type": "code",
   "execution_count": null,
   "metadata": {},
   "outputs": [],
   "source": []
  }
 ],
 "metadata": {
  "language_info": {
   "codemirror_mode": {
    "name": "ipython",
    "version": 3
   },
   "file_extension": ".py",
   "mimetype": "text/x-python",
   "name": "python",
   "nbconvert_exporter": "python",
   "pygments_lexer": "ipython3",
   "version": "3.7.4-final"
  },
  "orig_nbformat": 2,
  "kernelspec": {
   "name": "python3",
   "display_name": "Python 3"
  }
 },
 "nbformat": 4,
 "nbformat_minor": 2
}