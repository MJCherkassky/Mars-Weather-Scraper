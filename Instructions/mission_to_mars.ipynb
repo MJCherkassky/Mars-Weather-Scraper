{
 "cells": [
  {
   "cell_type": "code",
   "execution_count": 45,
   "metadata": {},
   "outputs": [],
   "source": [
    "#Import dependencies and create html filepath\n",
    "from bs4 import BeautifulSoup as bs\n",
    "from splinter import Browser\n",
    "import pandas as pd\n",
    "import requests"
   ]
  },
  {
   "cell_type": "code",
   "execution_count": 46,
   "metadata": {},
   "outputs": [],
   "source": [
    "############ NASA MARS NEWS ############\n",
    "#Set Executable Path & identify url path\n",
    "executable_path = {\"executable_path\": \"./chromedriver.exe\"}\n",
    "browser = Browser(\"chrome\", **executable_path, headless=False)\n",
    "url = 'https://mars.nasa.gov/news/'\n",
    "browser.visit(url)"
   ]
  },
  {
   "cell_type": "code",
   "execution_count": 47,
   "metadata": {},
   "outputs": [],
   "source": [
    "#Parse webpage\n",
    "html= browser.html\n",
    "soup = bs(html, 'html.parser')"
   ]
  },
  {
   "cell_type": "code",
   "execution_count": 48,
   "metadata": {},
   "outputs": [
    {
     "output_type": "stream",
     "name": "stdout",
     "text": "The Detective Aboard NASA's Perseverance Rover\n"
    }
   ],
   "source": [
    "# First card lives in the first 'li \"slide\" class\n",
    "#   <ul class=\"item_list\">\n",
    "#     <li class=\"slide\">\n",
    "first_article = soup.select_one('ul.item_list li.slide')\n",
    "news_title = first_article.find('div', class_='content_title').text\n",
    "print(news_title)"
   ]
  },
  {
   "cell_type": "code",
   "execution_count": 49,
   "metadata": {},
   "outputs": [
    {
     "output_type": "stream",
     "name": "stdout",
     "text": "An instrument called SHERLOC will, with the help of its partner WATSON, hunt for signs of ancient life by detecting organic molecules and minerals.\n"
    }
   ],
   "source": [
    "#Paragraph Text for same article\n",
    "news_p = first_article.find('div', class_='article_teaser_body').text\n",
    "print(news_p)"
   ]
  },
  {
   "cell_type": "code",
   "execution_count": 12,
   "metadata": {},
   "outputs": [],
   "source": [
    "############ JPL MARS FEATURED IMAGE ############\n",
    "#Set Executable Path & identify URL path\n",
    "executable_path = {\"executable_path\": \"./chromedriver.exe\"}\n",
    "browser = Browser(\"chrome\", **executable_path, headless=False)\n",
    "iurl= 'https://www.jpl.nasa.gov/spaceimages/?search=&category=Mars'\n",
    "browser.visit(iurl)"
   ]
  },
  {
   "cell_type": "code",
   "execution_count": 13,
   "metadata": {},
   "outputs": [],
   "source": [
    "#Go to full image button to see featured image via id='full_image'\n",
    "full_image_button = browser.find_by_id('full_image')\n",
    "full_image_button.click()"
   ]
  },
  {
   "cell_type": "code",
   "execution_count": 14,
   "metadata": {},
   "outputs": [],
   "source": [
    "#Go to 'more info' button via element present by text 'more info'\n",
    "more_info_element = browser.find_link_by_partial_text('more info')\n",
    "more_info_element.click()"
   ]
  },
  {
   "cell_type": "code",
   "execution_count": 15,
   "metadata": {},
   "outputs": [
    {
     "output_type": "execute_result",
     "data": {
      "text/plain": "'/spaceimages/images/largesize/PIA17044_hires.jpg'"
     },
     "metadata": {},
     "execution_count": 15
    }
   ],
   "source": [
    "#Grab full-size image url .jpg\n",
    "html = browser.html\n",
    "image_souped = bs(html, 'html.parser')\n",
    "image_url = image_souped.select_one('figure.lede a img').get('src')\n",
    "image_url"
   ]
  },
  {
   "cell_type": "code",
   "execution_count": 16,
   "metadata": {},
   "outputs": [
    {
     "output_type": "stream",
     "name": "stdout",
     "text": "https://www.jpl.nasa.gov/spaceimages/images/largesize/PIA17044_hires.jpg\n"
    }
   ],
   "source": [
    "#Combine main url with image route\n",
    "direct_image_url = f\"https://www.jpl.nasa.gov{image_url}\"\n",
    "print(direct_image_url)"
   ]
  },
  {
   "cell_type": "code",
   "execution_count": 17,
   "metadata": {},
   "outputs": [],
   "source": [
    "############# MARS TWITTER WEATHER ############\n",
    "wurl= 'https://twitter.com/marswxreport?lang=en'\n",
    "browser.visit(wurl)"
   ]
  },
  {
   "cell_type": "code",
   "execution_count": 18,
   "metadata": {},
   "outputs": [],
   "source": [
    "#Parse\n",
    "twitter_response = requests.get(wurl)\n",
    "weather_soup = bs(twitter_response.text, 'html.parser')"
   ]
  },
  {
   "cell_type": "code",
   "execution_count": 19,
   "metadata": {},
   "outputs": [
    {
     "output_type": "stream",
     "name": "stdout",
     "text": "\nInSight sol 533 (2020-05-27) low -92.8ºC (-135.1ºF) high -6.7ºC (19.9ºF)\nwinds from the SW at 6.4 m/s (14.2 mph) gusting to 21.3 m/s (47.5 mph)\npressure at 7.20 hPapic.twitter.com/sKQ2HEz7A2\n\n"
    }
   ],
   "source": [
    "twitter_text = weather_soup.find_all('div', class_='js-tweet-text-container')[0].text\n",
    "print(twitter_text)"
   ]
  },
  {
   "cell_type": "code",
   "execution_count": 52,
   "metadata": {},
   "outputs": [
    {
     "output_type": "execute_result",
     "data": {
      "text/plain": "'<table border=\"1\" class=\"dataframe\">\\n  <thead>\\n    <tr style=\"text-align: right;\">\\n      <th></th>\\n      <th>Value</th>\\n    </tr>\\n    <tr>\\n      <th>Description</th>\\n      <th></th>\\n    </tr>\\n  </thead>\\n  <tbody>\\n    <tr>\\n      <th>Equatorial Diameter:</th>\\n      <td>6,792 km</td>\\n    </tr>\\n    <tr>\\n      <th>Polar Diameter:</th>\\n      <td>6,752 km</td>\\n    </tr>\\n    <tr>\\n      <th>Mass:</th>\\n      <td>6.39 × 10^23 kg (0.11 Earths)</td>\\n    </tr>\\n    <tr>\\n      <th>Moons:</th>\\n      <td>2 (Phobos &amp; Deimos)</td>\\n    </tr>\\n    <tr>\\n      <th>Orbit Distance:</th>\\n      <td>227,943,824 km (1.38 AU)</td>\\n    </tr>\\n    <tr>\\n      <th>Orbit Period:</th>\\n      <td>687 days (1.9 years)</td>\\n    </tr>\\n    <tr>\\n      <th>Surface Temperature:</th>\\n      <td>-87 to -5 °C</td>\\n    </tr>\\n    <tr>\\n      <th>First Record:</th>\\n      <td>2nd millennium BC</td>\\n    </tr>\\n    <tr>\\n      <th>Recorded By:</th>\\n      <td>Egyptian astronomers</td>\\n    </tr>\\n  </tbody>\\n</table>'"
     },
     "metadata": {},
     "execution_count": 52
    }
   ],
   "source": [
    "############ MARS FACTS ############\n",
    "furl = 'https://space-facts.com/mars/'\n",
    "fact_tables = pd.read_html(furl)\n",
    "mars_tables = fact_tables[0]\n",
    "mars_tables.columns = [\"Description\",\"Value\"]\n",
    "mars_tables.set_index('Description', inplace=True)\n",
    "mars_tables.to_html()"
   ]
  },
  {
   "cell_type": "code",
   "execution_count": 41,
   "metadata": {},
   "outputs": [],
   "source": [
    "############ MARS HEMISPHERES ############\n",
    "executable_path = {\"executable_path\": \"./chromedriver.exe\"}\n",
    "browser = Browser(\"chrome\", **executable_path, headless=False)\n",
    "url = \"https://astrogeology.usgs.gov/search/results?q=hemisphere+enhanced&k1=target&v1=Mars\"\n",
    "browser.visit(url)"
   ]
  },
  {
   "cell_type": "code",
   "execution_count": 44,
   "metadata": {},
   "outputs": [
    {
     "output_type": "execute_result",
     "data": {
      "text/plain": "[{'Title': 'Cerberus Hemisphere Enhanced',\n  'Image URL': 'https://astropedia.astrogeology.usgs.gov/download/Mars/Viking/cerberus_enhanced.tif/full.jpg'},\n {'Title': 'Schiaparelli Hemisphere Enhanced',\n  'Image URL': 'https://astropedia.astrogeology.usgs.gov/download/Mars/Viking/schiaparelli_enhanced.tif/full.jpg'},\n {'Title': 'Syrtis Major Hemisphere Enhanced',\n  'Image URL': 'https://astropedia.astrogeology.usgs.gov/download/Mars/Viking/syrtis_major_enhanced.tif/full.jpg'},\n {'Title': 'Valles Marineris Hemisphere Enhanced',\n  'Image URL': 'https://astropedia.astrogeology.usgs.gov/download/Mars/Viking/valles_marineris_enhanced.tif/full.jpg'}]"
     },
     "metadata": {},
     "execution_count": 44
    }
   ],
   "source": [
    "hemisphere_image_urls = []\n",
    "\n",
    "# Get a List of All the Hemispheres\n",
    "links = browser.find_by_css(\"a.product-item h3\")\n",
    "for item in range(len(links)):\n",
    "    hemisphere = {}\n",
    "    # Find element to navigate to each hemisphere page\n",
    "    browser.find_by_css(\"a.product-item h3\")[item].click()\n",
    "    # Get hemisphere name text\n",
    "    hemisphere[\"Title\"] = browser.find_by_css(\"h2.title\").text\n",
    "    # Extract href tag from Sample jpg\n",
    "    sample_element = browser.find_link_by_text(\"Sample\").first\n",
    "    hemisphere[\"Image URL\"] = sample_element[\"href\"]     \n",
    "    # Append info dictionary to above list\n",
    "    hemisphere_image_urls.append(hemisphere)   \n",
    "    # Return to main Mars Hemisphere page to restart the for loop at the top\n",
    "    browser.back()\n",
    "\n",
    "hemisphere_image_urls"
   ]
  }
 ],
 "metadata": {
  "language_info": {
   "codemirror_mode": {
    "name": "ipython",
    "version": 3
   },
   "file_extension": ".py",
   "mimetype": "text/x-python",
   "name": "python",
   "nbconvert_exporter": "python",
   "pygments_lexer": "ipython3",
   "version": "3.7.4-final"
  },
  "orig_nbformat": 2,
  "kernelspec": {
   "name": "python3",
   "display_name": "Python 3"
  }
 },
 "nbformat": 4,
 "nbformat_minor": 2
}